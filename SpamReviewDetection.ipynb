{
  "nbformat": 4,
  "nbformat_minor": 0,
  "metadata": {
    "colab": {
      "name": "SpamReviewDetection.ipynb",
      "provenance": [],
      "collapsed_sections": [],
      "toc_visible": true
    },
    "kernelspec": {
      "name": "python3",
      "display_name": "Python 3"
    },
    "accelerator": "GPU"
  },
  "cells": [
    {
      "cell_type": "code",
      "metadata": {
        "id": "bktwOp23a0s7",
        "colab_type": "code",
        "outputId": "0b2bc7b4-c9c1-4782-e4b2-7259d267c9cc",
        "colab": {
          "base_uri": "https://localhost:8080/",
          "height": 162
        }
      },
      "source": [
        "# import necessary packages \n",
        "from zipfile import ZipFile\n",
        "from google.colab import files\n",
        "import os\n",
        "import nltk as nltk\n",
        "nltk.download('stopwords')\n",
        "from nltk.tokenize import sent_tokenize\n",
        "from pathlib import Path\n",
        "import csv\n",
        "import matplotlib.pyplot as plt\n",
        "import pandas as pd\n",
        "nltk.download('punkt')\n",
        "nltk.download('averaged_perceptron_tagger')\n",
        "from nltk.stem import PorterStemmer\n",
        "from nltk.corpus import stopwords\n",
        "from sklearn.feature_extraction.text import TfidfVectorizer\n",
        "import re\n",
        "from sklearn.model_selection import train_test_split\n",
        "from sklearn.pipeline import Pipeline\n",
        "from sklearn.feature_selection import SelectKBest, chi2\n",
        "import sklearn.datasets\n",
        "from sklearn.ensemble import RandomForestClassifier\n",
        "from sklearn.metrics import accuracy_score\n",
        "import matplotlib.pyplot as plt\n",
        "\n",
        "# file name to import from local machine \n",
        "file_name=\"op_spam_v1.4.zip\""
      ],
      "execution_count": 0,
      "outputs": [
        {
          "output_type": "stream",
          "text": [
            "[nltk_data] Downloading package stopwords to /root/nltk_data...\n",
            "[nltk_data]   Package stopwords is already up-to-date!\n",
            "[nltk_data] Downloading package punkt to /root/nltk_data...\n",
            "[nltk_data]   Package punkt is already up-to-date!\n",
            "[nltk_data] Downloading package averaged_perceptron_tagger to\n",
            "[nltk_data]     /root/nltk_data...\n",
            "[nltk_data]   Package averaged_perceptron_tagger is already up-to-\n",
            "[nltk_data]       date!\n"
          ],
          "name": "stdout"
        }
      ]
    },
    {
      "cell_type": "code",
      "metadata": {
        "id": "T8uTT2xpUb0n",
        "colab_type": "code",
        "outputId": "b11aaadf-7d90-4793-b504-2e38828bc73b",
        "colab": {
          "resources": {
            "http://localhost:8080/nbextensions/google.colab/files.js": {
              "data": "Ly8gQ29weXJpZ2h0IDIwMTcgR29vZ2xlIExMQwovLwovLyBMaWNlbnNlZCB1bmRlciB0aGUgQXBhY2hlIExpY2Vuc2UsIFZlcnNpb24gMi4wICh0aGUgIkxpY2Vuc2UiKTsKLy8geW91IG1heSBub3QgdXNlIHRoaXMgZmlsZSBleGNlcHQgaW4gY29tcGxpYW5jZSB3aXRoIHRoZSBMaWNlbnNlLgovLyBZb3UgbWF5IG9idGFpbiBhIGNvcHkgb2YgdGhlIExpY2Vuc2UgYXQKLy8KLy8gICAgICBodHRwOi8vd3d3LmFwYWNoZS5vcmcvbGljZW5zZXMvTElDRU5TRS0yLjAKLy8KLy8gVW5sZXNzIHJlcXVpcmVkIGJ5IGFwcGxpY2FibGUgbGF3IG9yIGFncmVlZCB0byBpbiB3cml0aW5nLCBzb2Z0d2FyZQovLyBkaXN0cmlidXRlZCB1bmRlciB0aGUgTGljZW5zZSBpcyBkaXN0cmlidXRlZCBvbiBhbiAiQVMgSVMiIEJBU0lTLAovLyBXSVRIT1VUIFdBUlJBTlRJRVMgT1IgQ09ORElUSU9OUyBPRiBBTlkgS0lORCwgZWl0aGVyIGV4cHJlc3Mgb3IgaW1wbGllZC4KLy8gU2VlIHRoZSBMaWNlbnNlIGZvciB0aGUgc3BlY2lmaWMgbGFuZ3VhZ2UgZ292ZXJuaW5nIHBlcm1pc3Npb25zIGFuZAovLyBsaW1pdGF0aW9ucyB1bmRlciB0aGUgTGljZW5zZS4KCi8qKgogKiBAZmlsZW92ZXJ2aWV3IEhlbHBlcnMgZm9yIGdvb2dsZS5jb2xhYiBQeXRob24gbW9kdWxlLgogKi8KKGZ1bmN0aW9uKHNjb3BlKSB7CmZ1bmN0aW9uIHNwYW4odGV4dCwgc3R5bGVBdHRyaWJ1dGVzID0ge30pIHsKICBjb25zdCBlbGVtZW50ID0gZG9jdW1lbnQuY3JlYXRlRWxlbWVudCgnc3BhbicpOwogIGVsZW1lbnQudGV4dENvbnRlbnQgPSB0ZXh0OwogIGZvciAoY29uc3Qga2V5IG9mIE9iamVjdC5rZXlzKHN0eWxlQXR0cmlidXRlcykpIHsKICAgIGVsZW1lbnQuc3R5bGVba2V5XSA9IHN0eWxlQXR0cmlidXRlc1trZXldOwogIH0KICByZXR1cm4gZWxlbWVudDsKfQoKLy8gTWF4IG51bWJlciBvZiBieXRlcyB3aGljaCB3aWxsIGJlIHVwbG9hZGVkIGF0IGEgdGltZS4KY29uc3QgTUFYX1BBWUxPQURfU0laRSA9IDEwMCAqIDEwMjQ7Ci8vIE1heCBhbW91bnQgb2YgdGltZSB0byBibG9jayB3YWl0aW5nIGZvciB0aGUgdXNlci4KY29uc3QgRklMRV9DSEFOR0VfVElNRU9VVF9NUyA9IDMwICogMTAwMDsKCmZ1bmN0aW9uIF91cGxvYWRGaWxlcyhpbnB1dElkLCBvdXRwdXRJZCkgewogIGNvbnN0IHN0ZXBzID0gdXBsb2FkRmlsZXNTdGVwKGlucHV0SWQsIG91dHB1dElkKTsKICBjb25zdCBvdXRwdXRFbGVtZW50ID0gZG9jdW1lbnQuZ2V0RWxlbWVudEJ5SWQob3V0cHV0SWQpOwogIC8vIENhY2hlIHN0ZXBzIG9uIHRoZSBvdXRwdXRFbGVtZW50IHRvIG1ha2UgaXQgYXZhaWxhYmxlIGZvciB0aGUgbmV4dCBjYWxsCiAgLy8gdG8gdXBsb2FkRmlsZXNDb250aW51ZSBmcm9tIFB5dGhvbi4KICBvdXRwdXRFbGVtZW50LnN0ZXBzID0gc3RlcHM7CgogIHJldHVybiBfdXBsb2FkRmlsZXNDb250aW51ZShvdXRwdXRJZCk7Cn0KCi8vIFRoaXMgaXMgcm91Z2hseSBhbiBhc3luYyBnZW5lcmF0b3IgKG5vdCBzdXBwb3J0ZWQgaW4gdGhlIGJyb3dzZXIgeWV0KSwKLy8gd2hlcmUgdGhlcmUgYXJlIG11bHRpcGxlIGFzeW5jaHJvbm91cyBzdGVwcyBhbmQgdGhlIFB5dGhvbiBzaWRlIGlzIGdvaW5nCi8vIHRvIHBvbGwgZm9yIGNvbXBsZXRpb24gb2YgZWFjaCBzdGVwLgovLyBUaGlzIHVzZXMgYSBQcm9taXNlIHRvIGJsb2NrIHRoZSBweXRob24gc2lkZSBvbiBjb21wbGV0aW9uIG9mIGVhY2ggc3RlcCwKLy8gdGhlbiBwYXNzZXMgdGhlIHJlc3VsdCBvZiB0aGUgcHJldmlvdXMgc3RlcCBhcyB0aGUgaW5wdXQgdG8gdGhlIG5leHQgc3RlcC4KZnVuY3Rpb24gX3VwbG9hZEZpbGVzQ29udGludWUob3V0cHV0SWQpIHsKICBjb25zdCBvdXRwdXRFbGVtZW50ID0gZG9jdW1lbnQuZ2V0RWxlbWVudEJ5SWQob3V0cHV0SWQpOwogIGNvbnN0IHN0ZXBzID0gb3V0cHV0RWxlbWVudC5zdGVwczsKCiAgY29uc3QgbmV4dCA9IHN0ZXBzLm5leHQob3V0cHV0RWxlbWVudC5sYXN0UHJvbWlzZVZhbHVlKTsKICByZXR1cm4gUHJvbWlzZS5yZXNvbHZlKG5leHQudmFsdWUucHJvbWlzZSkudGhlbigodmFsdWUpID0+IHsKICAgIC8vIENhY2hlIHRoZSBsYXN0IHByb21pc2UgdmFsdWUgdG8gbWFrZSBpdCBhdmFpbGFibGUgdG8gdGhlIG5leHQKICAgIC8vIHN0ZXAgb2YgdGhlIGdlbmVyYXRvci4KICAgIG91dHB1dEVsZW1lbnQubGFzdFByb21pc2VWYWx1ZSA9IHZhbHVlOwogICAgcmV0dXJuIG5leHQudmFsdWUucmVzcG9uc2U7CiAgfSk7Cn0KCi8qKgogKiBHZW5lcmF0b3IgZnVuY3Rpb24gd2hpY2ggaXMgY2FsbGVkIGJldHdlZW4gZWFjaCBhc3luYyBzdGVwIG9mIHRoZSB1cGxvYWQKICogcHJvY2Vzcy4KICogQHBhcmFtIHtzdHJpbmd9IGlucHV0SWQgRWxlbWVudCBJRCBvZiB0aGUgaW5wdXQgZmlsZSBwaWNrZXIgZWxlbWVudC4KICogQHBhcmFtIHtzdHJpbmd9IG91dHB1dElkIEVsZW1lbnQgSUQgb2YgdGhlIG91dHB1dCBkaXNwbGF5LgogKiBAcmV0dXJuIHshSXRlcmFibGU8IU9iamVjdD59IEl0ZXJhYmxlIG9mIG5leHQgc3RlcHMuCiAqLwpmdW5jdGlvbiogdXBsb2FkRmlsZXNTdGVwKGlucHV0SWQsIG91dHB1dElkKSB7CiAgY29uc3QgaW5wdXRFbGVtZW50ID0gZG9jdW1lbnQuZ2V0RWxlbWVudEJ5SWQoaW5wdXRJZCk7CiAgaW5wdXRFbGVtZW50LmRpc2FibGVkID0gZmFsc2U7CgogIGNvbnN0IG91dHB1dEVsZW1lbnQgPSBkb2N1bWVudC5nZXRFbGVtZW50QnlJZChvdXRwdXRJZCk7CiAgb3V0cHV0RWxlbWVudC5pbm5lckhUTUwgPSAnJzsKCiAgY29uc3QgcGlja2VkUHJvbWlzZSA9IG5ldyBQcm9taXNlKChyZXNvbHZlKSA9PiB7CiAgICBpbnB1dEVsZW1lbnQuYWRkRXZlbnRMaXN0ZW5lcignY2hhbmdlJywgKGUpID0+IHsKICAgICAgcmVzb2x2ZShlLnRhcmdldC5maWxlcyk7CiAgICB9KTsKICB9KTsKCiAgY29uc3QgY2FuY2VsID0gZG9jdW1lbnQuY3JlYXRlRWxlbWVudCgnYnV0dG9uJyk7CiAgaW5wdXRFbGVtZW50LnBhcmVudEVsZW1lbnQuYXBwZW5kQ2hpbGQoY2FuY2VsKTsKICBjYW5jZWwudGV4dENvbnRlbnQgPSAnQ2FuY2VsIHVwbG9hZCc7CiAgY29uc3QgY2FuY2VsUHJvbWlzZSA9IG5ldyBQcm9taXNlKChyZXNvbHZlKSA9PiB7CiAgICBjYW5jZWwub25jbGljayA9ICgpID0+IHsKICAgICAgcmVzb2x2ZShudWxsKTsKICAgIH07CiAgfSk7CgogIC8vIENhbmNlbCB1cGxvYWQgaWYgdXNlciBoYXNuJ3QgcGlja2VkIGFueXRoaW5nIGluIHRpbWVvdXQuCiAgY29uc3QgdGltZW91dFByb21pc2UgPSBuZXcgUHJvbWlzZSgocmVzb2x2ZSkgPT4gewogICAgc2V0VGltZW91dCgoKSA9PiB7CiAgICAgIHJlc29sdmUobnVsbCk7CiAgICB9LCBGSUxFX0NIQU5HRV9USU1FT1VUX01TKTsKICB9KTsKCiAgLy8gV2FpdCBmb3IgdGhlIHVzZXIgdG8gcGljayB0aGUgZmlsZXMuCiAgY29uc3QgZmlsZXMgPSB5aWVsZCB7CiAgICBwcm9taXNlOiBQcm9taXNlLnJhY2UoW3BpY2tlZFByb21pc2UsIHRpbWVvdXRQcm9taXNlLCBjYW5jZWxQcm9taXNlXSksCiAgICByZXNwb25zZTogewogICAgICBhY3Rpb246ICdzdGFydGluZycsCiAgICB9CiAgfTsKCiAgaWYgKCFmaWxlcykgewogICAgcmV0dXJuIHsKICAgICAgcmVzcG9uc2U6IHsKICAgICAgICBhY3Rpb246ICdjb21wbGV0ZScsCiAgICAgIH0KICAgIH07CiAgfQoKICBjYW5jZWwucmVtb3ZlKCk7CgogIC8vIERpc2FibGUgdGhlIGlucHV0IGVsZW1lbnQgc2luY2UgZnVydGhlciBwaWNrcyBhcmUgbm90IGFsbG93ZWQuCiAgaW5wdXRFbGVtZW50LmRpc2FibGVkID0gdHJ1ZTsKCiAgZm9yIChjb25zdCBmaWxlIG9mIGZpbGVzKSB7CiAgICBjb25zdCBsaSA9IGRvY3VtZW50LmNyZWF0ZUVsZW1lbnQoJ2xpJyk7CiAgICBsaS5hcHBlbmQoc3BhbihmaWxlLm5hbWUsIHtmb250V2VpZ2h0OiAnYm9sZCd9KSk7CiAgICBsaS5hcHBlbmQoc3BhbigKICAgICAgICBgKCR7ZmlsZS50eXBlIHx8ICduL2EnfSkgLSAke2ZpbGUuc2l6ZX0gYnl0ZXMsIGAgKwogICAgICAgIGBsYXN0IG1vZGlmaWVkOiAkewogICAgICAgICAgICBmaWxlLmxhc3RNb2RpZmllZERhdGUgPyBmaWxlLmxhc3RNb2RpZmllZERhdGUudG9Mb2NhbGVEYXRlU3RyaW5nKCkgOgogICAgICAgICAgICAgICAgICAgICAgICAgICAgICAgICAgICAnbi9hJ30gLSBgKSk7CiAgICBjb25zdCBwZXJjZW50ID0gc3BhbignMCUgZG9uZScpOwogICAgbGkuYXBwZW5kQ2hpbGQocGVyY2VudCk7CgogICAgb3V0cHV0RWxlbWVudC5hcHBlbmRDaGlsZChsaSk7CgogICAgY29uc3QgZmlsZURhdGFQcm9taXNlID0gbmV3IFByb21pc2UoKHJlc29sdmUpID0+IHsKICAgICAgY29uc3QgcmVhZGVyID0gbmV3IEZpbGVSZWFkZXIoKTsKICAgICAgcmVhZGVyLm9ubG9hZCA9IChlKSA9PiB7CiAgICAgICAgcmVzb2x2ZShlLnRhcmdldC5yZXN1bHQpOwogICAgICB9OwogICAgICByZWFkZXIucmVhZEFzQXJyYXlCdWZmZXIoZmlsZSk7CiAgICB9KTsKICAgIC8vIFdhaXQgZm9yIHRoZSBkYXRhIHRvIGJlIHJlYWR5LgogICAgbGV0IGZpbGVEYXRhID0geWllbGQgewogICAgICBwcm9taXNlOiBmaWxlRGF0YVByb21pc2UsCiAgICAgIHJlc3BvbnNlOiB7CiAgICAgICAgYWN0aW9uOiAnY29udGludWUnLAogICAgICB9CiAgICB9OwoKICAgIC8vIFVzZSBhIGNodW5rZWQgc2VuZGluZyB0byBhdm9pZCBtZXNzYWdlIHNpemUgbGltaXRzLiBTZWUgYi82MjExNTY2MC4KICAgIGxldCBwb3NpdGlvbiA9IDA7CiAgICB3aGlsZSAocG9zaXRpb24gPCBmaWxlRGF0YS5ieXRlTGVuZ3RoKSB7CiAgICAgIGNvbnN0IGxlbmd0aCA9IE1hdGgubWluKGZpbGVEYXRhLmJ5dGVMZW5ndGggLSBwb3NpdGlvbiwgTUFYX1BBWUxPQURfU0laRSk7CiAgICAgIGNvbnN0IGNodW5rID0gbmV3IFVpbnQ4QXJyYXkoZmlsZURhdGEsIHBvc2l0aW9uLCBsZW5ndGgpOwogICAgICBwb3NpdGlvbiArPSBsZW5ndGg7CgogICAgICBjb25zdCBiYXNlNjQgPSBidG9hKFN0cmluZy5mcm9tQ2hhckNvZGUuYXBwbHkobnVsbCwgY2h1bmspKTsKICAgICAgeWllbGQgewogICAgICAgIHJlc3BvbnNlOiB7CiAgICAgICAgICBhY3Rpb246ICdhcHBlbmQnLAogICAgICAgICAgZmlsZTogZmlsZS5uYW1lLAogICAgICAgICAgZGF0YTogYmFzZTY0LAogICAgICAgIH0sCiAgICAgIH07CiAgICAgIHBlcmNlbnQudGV4dENvbnRlbnQgPQogICAgICAgICAgYCR7TWF0aC5yb3VuZCgocG9zaXRpb24gLyBmaWxlRGF0YS5ieXRlTGVuZ3RoKSAqIDEwMCl9JSBkb25lYDsKICAgIH0KICB9CgogIC8vIEFsbCBkb25lLgogIHlpZWxkIHsKICAgIHJlc3BvbnNlOiB7CiAgICAgIGFjdGlvbjogJ2NvbXBsZXRlJywKICAgIH0KICB9Owp9CgpzY29wZS5nb29nbGUgPSBzY29wZS5nb29nbGUgfHwge307CnNjb3BlLmdvb2dsZS5jb2xhYiA9IHNjb3BlLmdvb2dsZS5jb2xhYiB8fCB7fTsKc2NvcGUuZ29vZ2xlLmNvbGFiLl9maWxlcyA9IHsKICBfdXBsb2FkRmlsZXMsCiAgX3VwbG9hZEZpbGVzQ29udGludWUsCn07Cn0pKHNlbGYpOwo=",
              "ok": true,
              "headers": [
                [
                  "content-type",
                  "application/javascript"
                ]
              ],
              "status": 200,
              "status_text": "OK"
            }
          },
          "base_uri": "https://localhost:8080/",
          "height": 39
        }
      },
      "source": [
        "#upload the zip file to Google Colab\n",
        "files.upload()"
      ],
      "execution_count": 0,
      "outputs": [
        {
          "output_type": "display_data",
          "data": {
            "text/html": [
              "\n",
              "     <input type=\"file\" id=\"files-4f3b9f58-0ef4-423e-ac0d-bdda08c80825\" name=\"files[]\" multiple disabled />\n",
              "     <output id=\"result-4f3b9f58-0ef4-423e-ac0d-bdda08c80825\">\n",
              "      Upload widget is only available when the cell has been executed in the\n",
              "      current browser session. Please rerun this cell to enable.\n",
              "      </output>\n",
              "      <script src=\"/nbextensions/google.colab/files.js\"></script> "
            ],
            "text/plain": [
              "<IPython.core.display.HTML object>"
            ]
          },
          "metadata": {
            "tags": []
          }
        }
      ]
    },
    {
      "cell_type": "code",
      "metadata": {
        "id": "8X1f5Zth41fl",
        "colab_type": "code",
        "colab": {}
      },
      "source": [
        "#create a method to read text file into csv file\n",
        "#filename : name of the zip file\n",
        "#nameTitle1, nameTitle2 :part of   .txt file name\n",
        "#label : whether a text is spam or non spam\n",
        "#classTittle: polarity of text\n",
        "#classNumer: what class a text belongto (1: deceptive+ negative; 2: truthful + negative; 3: deceptive+positive; 4: truthful+positive)\n",
        "def read(thewriter,filename, nameTitle1,nameTitle2,label,classTitle,classNumber):\n",
        "  if (nameTitle1 in filename) and (nameTitle2 in filename):\n",
        "        with zip.open(filename, 'r') as fi:\n",
        "          bytes = fi.read()\n",
        "          text = bytes.decode('ASCII')\n",
        "          thewriter.writerow([text,label,classTitle,classNumber])\n"
      ],
      "execution_count": 0,
      "outputs": []
    },
    {
      "cell_type": "code",
      "metadata": {
        "id": "uksxmp254qI7",
        "colab_type": "code",
        "colab": {}
      },
      "source": [
        "# puting content into csv file using read( method)\n",
        "with ZipFile(file_name,'r') as zip:\n",
        "  with open('data.csv','w',newline='' ) as f: # .csv file is called data\n",
        "        thewriter = csv.writer(f)\n",
        "        thewriter.writerow(['text','isSpam','positivity','class']) # .csv file have 4 colums:'text','isSpam','positivity','class'\n",
        "        for filename in zip.namelist():\n",
        "          if not os.path.isdir(filename):\n",
        "            if \".txt\" in filename:\n",
        "              read(thewriter,filename,\"negative_polarity\",\"deceptive_from_MTurk\",\"deceptive\",\"negative\",1)\n",
        "              read(thewriter,filename, \"negative_polarity\",\"truthful_from_Web\",\"truthful\",\"negative\",2)\n",
        "              read(thewriter,filename, \"positive_polarity\",\"deceptive_from_MTurk\",\"deceptive\",\"positive\",3)\n",
        "              read(thewriter,filename, \"positive_polarity\",\"truthful_from_TripAdvisor\",\"truthful\",\"positive\",4)\n",
        "print('Done')\n",
        "zip.close()"
      ],
      "execution_count": 0,
      "outputs": []
    },
    {
      "cell_type": "code",
      "metadata": {
        "id": "LnG2aKHRUj1G",
        "colab_type": "code",
        "colab": {}
      },
      "source": [
        "# read csv file into reviews\n",
        "reviews = pd.read_csv(\"data.csv\")\n",
        "# the first 5 rows of reviews\n",
        "reviews.head(5)"
      ],
      "execution_count": 0,
      "outputs": []
    },
    {
      "cell_type": "code",
      "metadata": {
        "id": "6GJ7bJYuVzOT",
        "colab_type": "code",
        "colab": {}
      },
      "source": [
        "#getting information of reviews\n",
        "reviews.info()\n",
        "reviews.shape"
      ],
      "execution_count": 0,
      "outputs": []
    },
    {
      "cell_type": "code",
      "metadata": {
        "id": "eudceQLVV5gC",
        "colab_type": "code",
        "outputId": "807e6e71-606c-4c33-8391-8107699bcc7e",
        "colab": {
          "base_uri": "https://localhost:8080/",
          "height": 369
        }
      },
      "source": [
        "# count how many texts are deceptive and truthful\n",
        "print(reviews[\"isSpam\"].value_counts())\n",
        "#histogram of numbers of deceptive and truthful reviews\n",
        "reviews.groupby('isSpam').text.count().plot.bar(ylim=0)\n",
        "plt.show()"
      ],
      "execution_count": 0,
      "outputs": [
        {
          "output_type": "stream",
          "text": [
            "deceptive    800\n",
            "truthful     800\n",
            "Name: isSpam, dtype: int64\n"
          ],
          "name": "stdout"
        },
        {
          "output_type": "display_data",
          "data": {
            "image/png": "[encoded data removed]",
            "text/plain": [
              "<Figure size 432x288 with 1 Axes>"
            ]
          },
          "metadata": {
            "tags": []
          }
        }
      ]
    },
    {
      "cell_type": "code",
      "metadata": {
        "id": "zvRZRxTJTXNF",
        "colab_type": "code",
        "outputId": "258b24cd-1fb9-4772-9dc7-c107f99cc535",
        "colab": {
          "base_uri": "https://localhost:8080/",
          "height": 363
        }
      },
      "source": [
        "#count the numbers of positive and negative reviews and plot their histogram\n",
        "print(reviews[\"positivity\"].value_counts())\n",
        "reviews.groupby('positivity').text.count().plot.bar(ylim=0)\n",
        "plt.show()"
      ],
      "execution_count": 0,
      "outputs": [
        {
          "output_type": "stream",
          "text": [
            "negative    800\n",
            "positive    800\n",
            "Name: positivity, dtype: int64\n"
          ],
          "name": "stdout"
        },
        {
          "output_type": "display_data",
          "data": {
            "image/png": "[encoded data removed]",
            "text/plain": [
              "<Figure size 432x288 with 1 Axes>"
            ]
          },
          "metadata": {
            "tags": []
          }
        }
      ]
    },
    {
      "cell_type": "code",
      "metadata": {
        "id": "4639Jb76pAQO",
        "colab_type": "code",
        "colab": {}
      },
      "source": [
        "#function mostFequent find the k most frequent words in reviews\n",
        "df = pd.DataFrame(reviews)\n",
        "def mostFrequent(k,column,category,adjective):\n",
        "  from collections import Counter \n",
        "  result =''\n",
        "  for index, row in df.iterrows():\n",
        "    if row[category] ==adjective:\n",
        "      result = result+ row[column]\n",
        "  split_it = result.split() \n",
        "  Counter = Counter(split_it) \n",
        "  # most_common() produces k frequently encountered \n",
        "  # input values and their respective counts. \n",
        "  most_occur = Counter.most_common(k)\n",
        "  print(adjective+\"-------------------------\")\n",
        "  print(most_occur)"
      ],
      "execution_count": 0,
      "outputs": []
    },
    {
      "cell_type": "code",
      "metadata": {
        "id": "hxqcKmJfWMLy",
        "colab_type": "code",
        "outputId": "269095e7-765e-4929-a069-25f44c416caf",
        "colab": {
          "base_uri": "https://localhost:8080/",
          "height": 151
        }
      },
      "source": [
        "mostFrequent(10,'text','positivity','positive') # 10 most frequent words in reviews that are positive\n",
        "mostFrequent(10,'text','positivity','negative') # 10 most frequent words in reviews that are negative\n",
        "mostFrequent(10,'text','isSpam','deceptive') # 10 most frequent words in reviews that are deceptive\n",
        "mostFrequent(10,'text','isSpam','truthful') # 10 most frequent words in reviews that are truthful"
      ],
      "execution_count": 0,
      "outputs": [
        {
          "output_type": "stream",
          "text": [
            "positive-------------------------\n",
            "[('the', 5029), ('and', 3682), ('a', 2732), ('to', 2390), ('was', 2344), ('I', 2166), ('The', 1602), ('in', 1509), ('of', 1370), ('is', 1132)]\n",
            "negative-------------------------\n",
            "[('the', 7743), ('to', 4281), ('and', 4053), ('I', 3775), ('a', 3580), ('was', 3433), ('in', 2078), ('of', 1901), ('for', 1668), ('The', 1529)]\n",
            "deceptive-------------------------\n",
            "[('the', 6296), ('and', 3828), ('I', 3655), ('to', 3509), ('was', 3072), ('a', 2937), ('in', 1806), ('of', 1678), ('The', 1550), ('for', 1239)]\n",
            "truthful-------------------------\n",
            "[('the', 6476), ('and', 3907), ('a', 3375), ('to', 3162), ('was', 2705), ('I', 2286), ('in', 1781), ('of', 1593), ('The', 1581), ('for', 1486)]\n"
          ],
          "name": "stdout"
        }
      ]
    },
    {
      "cell_type": "code",
      "metadata": {
        "id": "Lqk1ieCSsUoD",
        "colab_type": "code",
        "colab": {}
      },
      "source": [
        "#find the k most frequent words when combine polarity and isSpam characteristics.\n",
        "df = pd.DataFrame(reviews)\n",
        "def mostFrequent(k, column, category1, category2, adjective1, adjective2):\n",
        "  from collections import Counter \n",
        "  result =''\n",
        "  for index, row in df.iterrows():\n",
        "    if row[category1] == adjective1 and row[category2] == adjective2:\n",
        "      result = result + row[column]\n",
        "  split_it = result.split() \n",
        "  Counter = Counter(split_it) \n",
        "  # most_common() produces k frequently encountered \n",
        "  # input values and their respective counts. \n",
        "  most_occur = Counter.most_common(k)\n",
        "  print(adjective1 + \" and \" + adjective2+\"-------------------------\")\n",
        "  print(most_occur)"
      ],
      "execution_count": 0,
      "outputs": []
    },
    {
      "cell_type": "code",
      "metadata": {
        "id": "GiqcxwXHs_c_",
        "colab_type": "code",
        "outputId": "1bee2572-9ced-4374-f6b1-f637ff616a1c",
        "colab": {
          "base_uri": "https://localhost:8080/",
          "height": 151
        }
      },
      "source": [
        "mostFrequent(10,'text','positivity','isSpam', 'positive', 'deceptive')\n",
        "mostFrequent(10,'text','positivity','isSpam', 'positive', 'truthful')\n",
        "mostFrequent(10,'text','positivity','isSpam', 'negative', 'deceptive')\n",
        "mostFrequent(10,'text','positivity','isSpam', 'negative', 'truthful')"
      ],
      "execution_count": 0,
      "outputs": [
        {
          "output_type": "stream",
          "text": [
            "positive and deceptive-------------------------\n",
            "[('the', 2425), ('and', 1795), ('I', 1345), ('to', 1272), ('a', 1215), ('was', 1153), ('The', 806), ('in', 759), ('of', 693), ('hotel', 512)]\n",
            "positive and truthful-------------------------\n",
            "[('the', 2604), ('and', 1887), ('a', 1517), ('was', 1191), ('to', 1118), ('I', 821), ('The', 796), ('in', 750), ('of', 677), ('is', 621)]\n",
            "negative and deceptive-------------------------\n",
            "[('the', 3871), ('I', 2310), ('to', 2237), ('and', 2033), ('was', 1919), ('a', 1722), ('in', 1047), ('of', 985), ('for', 779), ('The', 744)]\n",
            "negative and truthful-------------------------\n",
            "[('the', 3872), ('to', 2044), ('and', 2020), ('a', 1858), ('was', 1514), ('I', 1465), ('in', 1031), ('of', 916), ('for', 889), ('The', 785)]\n"
          ],
          "name": "stdout"
        }
      ]
    },
    {
      "cell_type": "code",
      "metadata": {
        "id": "jOjk4ASeDmK6",
        "colab_type": "code",
        "colab": {}
      },
      "source": [
        "from nltk.tokenize import word_tokenize\n",
        "# find the number of nouns, verbs and adjectives in  texts\n",
        "def categorizeWord(column,category,adjective):\n",
        "  from collections import Counter \n",
        "  result =''\n",
        "  for index, row in df.iterrows():\n",
        "    if row[category] ==adjective:\n",
        "      result = result+ row[column]\n",
        "  text = word_tokenize(result.lower())\n",
        "  tagged = nltk.pos_tag(text)\n",
        "  from collections import Counter\n",
        "  counts = Counter(tag for word,tag in tagged)\n",
        "  print(adjective +'--------------------------')\n",
        "  print(counts)\n",
        "  noun = 0\n",
        "  verb = 0\n",
        "  adj = 0\n",
        "  total = sum(counts.values())\n",
        "  for word,count in counts.items() :\n",
        "    if \"NN\" in word :\n",
        "      noun = noun + count\n",
        "    if (\"VB\") in word:\n",
        "      verb = verb + count\n",
        "    if (\"JJ\") in word:\n",
        "      adj = adj + count\n",
        "  print(\"Noun: \" ,float(noun)/total )\n",
        "  print(\"Verb: \" ,float(noun)/total )\n",
        "  print(\"Adjective: \" ,float(noun)/total )\n",
        "  print(dict((word, float(count)/total) for word,count in counts.items()))"
      ],
      "execution_count": 0,
      "outputs": []
    },
    {
      "cell_type": "code",
      "metadata": {
        "id": "V8ViL0j90cFi",
        "colab_type": "code",
        "outputId": "dcbc3f58-133a-4421-8dbe-dbebb8167151",
        "colab": {
          "base_uri": "https://localhost:8080/",
          "height": 138
        }
      },
      "source": [
        "#number of nouns, verbs, adjectives of deceptive reviews\n",
        "categorizeWord('text','isSpam','deceptive')"
      ],
      "execution_count": 0,
      "outputs": [
        {
          "output_type": "stream",
          "text": [
            "deceptive--------------------------\n",
            "Counter({'NN': 24333, 'DT': 13442, 'IN': 12639, 'JJ': 10089, 'VBD': 9159, 'RB': 8420, '.': 7240, 'VB': 5269, 'PRP': 5243, 'CC': 4836, 'NNS': 4204, ',': 4175, 'TO': 3557, 'PRP$': 2760, 'VBN': 2615, 'VBG': 2057, 'VBP': 1965, 'MD': 1567, 'VBZ': 1559, 'CD': 1012, 'WRB': 727, 'RP': 548, 'WDT': 442, 'EX': 381, 'JJR': 351, 'WP': 323, 'JJS': 312, ':': 264, \"''\": 234, '``': 201, 'POS': 189, ')': 159, '(': 156, 'RBR': 149, 'PDT': 138, '$': 73, 'RBS': 65, 'UH': 20, 'FW': 10, 'NNP': 4, 'SYM': 3, 'NNPS': 1, '#': 1})\n",
            "Noun:  0.2180576353023867\n",
            "Verb:  0.2180576353023867\n",
            "Adjective:  0.2180576353023867\n",
            "{'PRP': 0.04005592396785136, 'VBD': 0.06997371879106438, 'IN': 0.09656052317941509, 'DT': 0.10269535189316382, 'JJ': 0.07707881306726155, 'NN': 0.18590135378785563, 'CD': 0.00773156495431348, 'NNS': 0.03211808208293861, 'CC': 0.03694649023622529, '.': 0.05531277694587904, 'VBP': 0.015012376615835956, 'TO': 0.027175075634874552, 'VB': 0.04025456101213214, ',': 0.03189652537970235, 'RB': 0.0643278428016991, 'VBG': 0.01571524615713718, ':': 0.002016929988081777, 'PRP$': 0.021086086239036763, 'WRB': 0.005554197353543379, 'VBN': 0.019978302722855484, '``': 0.0015356171500168078, 'UH': 0.00015279772636983161, 'VBZ': 0.011910582770528375, \"''\": 0.0017877333985270299, 'PDT': 0.001054304311951838, '(': 0.0011918222656846866, 'FW': 7.639886318491581e-05, 'EX': 0.0029107966873452924, ')': 0.0012147419246401614, 'WP': 0.002467683280872781, 'MD': 0.011971701861076307, 'RP': 0.004186657702533386, 'WDT': 0.0033768297527732786, 'JJS': 0.0023836445313693733, 'JJR': 0.002681600097790545, 'POS': 0.0014439385141949087, '$': 0.0005577117012498854, 'RBS': 0.0004965926107019528, 'RBR': 0.0011383430614552456, 'SYM': 2.2919658955474742e-05, 'NNPS': 7.63988631849158e-06, 'NNP': 3.055954527396632e-05, '#': 7.63988631849158e-06}\n"
          ],
          "name": "stdout"
        }
      ]
    },
    {
      "cell_type": "code",
      "metadata": {
        "id": "ZZtdPi8mF0Gc",
        "colab_type": "code",
        "outputId": "aa9ca015-3a57-4608-9234-31e4a823fd04",
        "colab": {
          "base_uri": "https://localhost:8080/",
          "height": 138
        }
      },
      "source": [
        "#number of nouns, verbs, adjectives of truthful reviews\n",
        "categorizeWord('text','isSpam','truthful')"
      ],
      "execution_count": 0,
      "outputs": [
        {
          "output_type": "stream",
          "text": [
            "truthful--------------------------\n",
            "Counter({'NN': 25058, 'DT': 14356, 'IN': 12922, 'JJ': 11040, 'RB': 8403, 'VBD': 8341, '.': 8129, 'PRP': 5681, 'CC': 5179, 'VB': 4901, 'NNS': 4888, ',': 4540, 'TO': 3199, 'VBN': 2537, 'VBP': 2339, 'VBZ': 2050, 'CD': 2040, 'PRP$': 1910, 'VBG': 1880, 'MD': 1448, ':': 1036, 'WRB': 591, 'RP': 573, ')': 548, '(': 519, 'WDT': 475, 'JJR': 383, 'EX': 377, '$': 319, 'WP': 282, \"''\": 273, 'JJS': 268, '``': 247, 'POS': 174, 'RBR': 139, 'PDT': 127, 'FW': 60, 'NNP': 42, 'RBS': 42, 'UH': 36, 'SYM': 13, '#': 10, 'NNPS': 3})\n",
            "Noun:  0.2183100642024196\n",
            "Verb:  0.2183100642024196\n",
            "Adjective:  0.2183100642024196\n",
            "{'PRP$': 0.01390324506107237, '$': 0.0023220603007759614, 'CD': 0.014849539227532793, 'NN': 0.18240184017819447, 'NNS': 0.035580660658911904, 'VBD': 0.06071568955727991, 'VBN': 0.01846729461776995, 'IN': 0.09406164014616605, 'DT': 0.1044999927208141, '.': 0.05917250214735984, 'CC': 0.037698903754604086, 'VBP': 0.017026015810391766, 'JJ': 0.08036221229017747, 'TO': 0.023286115680822256, 'VB': 0.03567529007555795, 'RB': 0.061166999082822575, 'PRP': 0.04135305507432049, ',': 0.03304750396715631, 'VBG': 0.013684869484196888, '(': 0.0037778974799458427, ')': 0.0039889938709254755, 'WRB': 0.0043019988644470005, 'WDT': 0.003457613300528469, 'VBZ': 0.014922331086491287, 'JJR': 0.002787928198110323, 'POS': 0.001266578345877797, 'MD': 0.010540261177189944, 'PDT': 0.0009244566087728748, 'RBR': 0.0010118068395230677, 'RP': 0.004170973518321711, ':': 0.007541236588099987, 'NNP': 0.0003057258076256751, \"''\": 0.0019872177495668885, 'WP': 0.002052730422629533, '``': 0.0017979589162748038, 'EX': 0.002744253082735227, 'FW': 0.00043675115375096447, 'JJS': 0.0019508218200876414, 'RBS': 0.0003057258076256751, 'NNPS': 2.1837557687548225e-05, 'UH': 0.0002620506922505787, '#': 7.279185895849408e-05, 'SYM': 9.462941664604231e-05}\n"
          ],
          "name": "stdout"
        }
      ]
    },
    {
      "cell_type": "code",
      "metadata": {
        "id": "zfJEKjhD7WL7",
        "colab_type": "code",
        "outputId": "21952b49-9846-498d-8259-63d558527757",
        "colab": {
          "base_uri": "https://localhost:8080/",
          "height": 138
        }
      },
      "source": [
        "#number of nouns, verbs, adjectives of positive reviews\n",
        "categorizeWord('text','positivity','positive')"
      ],
      "execution_count": 0,
      "outputs": [
        {
          "output_type": "stream",
          "text": [
            "positive--------------------------\n",
            "Counter({'NN': 20699, 'DT': 11457, 'JJ': 10086, 'IN': 9966, '.': 6551, 'RB': 6360, 'VBD': 6182, 'CC': 4451, 'NNS': 3886, 'PRP': 3873, 'VB': 3576, ',': 3422, 'TO': 2412, 'VBP': 1854, 'PRP$': 1805, 'VBZ': 1790, 'VBN': 1662, 'VBG': 1453, 'MD': 1147, 'CD': 1121, ':': 461, 'WRB': 369, 'WDT': 355, 'RP': 302, ')': 291, 'JJS': 286, '(': 267, 'JJR': 243, 'EX': 232, 'WP': 190, 'POS': 163, '$': 159, 'PDT': 134, \"''\": 128, '``': 96, 'RBR': 94, 'RBS': 64, 'FW': 27, 'NNP': 22, 'UH': 16, 'SYM': 7, '#': 2, 'NNPS': 2})\n",
            "Noun:  0.22857434773320454\n",
            "Verb:  0.22857434773320454\n",
            "Adjective:  0.22857434773320454\n",
            "{'PRP$': 0.01676527683605324, 'NN': 0.19225732145676788, 'CC': 0.04134196520624541, 'JJ': 0.0936812089575806, 'VBN': 0.015437058227989188, 'IN': 0.09256661991584852, 'CD': 0.010412119298180433, 'NNS': 0.03609410846809025, 'DT': 0.10641538875936951, ',': 0.0317843641733929, 'PRP': 0.035973361321902604, '.': 0.060847273436556666, 'VBP': 0.017220400694760503, 'RB': 0.05907321921179978, 'VBD': 0.05741991213323054, 'MD': 0.010653613590555715, 'VB': 0.03321475344361573, 'VBG': 0.013495815646972498, 'JJS': 0.0026564372161281035, 'TO': 0.022403239738814633, 'VBZ': 0.016625953205836732, 'JJR': 0.0022570428095074445, 'FW': 0.0002507825343897161, 'RBS': 0.0005944474889237714, 'SYM': 6.50176941010375e-05, ':': 0.004281879568654041, 'WRB': 0.0034273613033261193, 'PDT': 0.0012446244299341464, 'WP': 0.0017647659827424464, 'WDT': 0.0032973259151240445, 'RP': 0.002805049088359046, '(': 0.0024799606178538586, ')': 0.002702878426200273, 'POS': 0.0015139834483527304, '``': 0.0008916712333856571, \"''\": 0.0011888949778475428, 'EX': 0.0021548721473486714, 'RBR': 0.0008730947493567892, '$': 0.0014768304802949945, 'NNP': 0.00020434132431754642, '#': 1.8576484028867856e-05, 'UH': 0.00014861187223094284, 'NNPS': 1.8576484028867856e-05}\n"
          ],
          "name": "stdout"
        }
      ]
    },
    {
      "cell_type": "code",
      "metadata": {
        "id": "nLmVQ_TfF1_D",
        "colab_type": "code",
        "outputId": "1a132e4a-78d2-4b61-ab1d-05bce09bf59f",
        "colab": {
          "base_uri": "https://localhost:8080/",
          "height": 138
        }
      },
      "source": [
        "##number of nouns, verbs, adjectives of negative reviews\n",
        "categorizeWord('text','positivity','negative')"
      ],
      "execution_count": 0,
      "outputs": [
        {
          "output_type": "stream",
          "text": [
            "negative--------------------------\n",
            "Counter({'NN': 28692, 'DT': 16341, 'IN': 15595, 'VBD': 11318, 'JJ': 11043, 'RB': 10463, '.': 8818, 'PRP': 7051, 'VB': 6594, 'CC': 5564, ',': 5293, 'NNS': 5206, 'TO': 4344, 'VBN': 3490, 'PRP$': 2865, 'VBG': 2484, 'VBP': 2450, 'CD': 1931, 'MD': 1868, 'VBZ': 1819, 'WRB': 949, ':': 839, 'RP': 819, 'WDT': 562, 'EX': 526, 'JJR': 491, ')': 416, 'WP': 415, '(': 408, \"''\": 379, '``': 352, 'JJS': 294, '$': 233, 'POS': 200, 'RBR': 194, 'PDT': 131, 'FW': 43, 'RBS': 43, 'UH': 40, 'NNP': 24, 'SYM': 9, '#': 9, 'NNPS': 2})\n",
            "Noun:  0.2112236702011743\n",
            "Verb:  0.2112236702011743\n",
            "Adjective:  0.2112236702011743\n",
            "{'PRP': 0.04390219604375899, 'VBD': 0.07047015385381708, 'IN': 0.09710037545063416, 'DT': 0.1017452539428543, 'JJ': 0.06875789971794505, 'NN': 0.17864725696887435, 'CD': 0.012023137223159638, 'NNS': 0.03241452738672661, 'CC': 0.034643570952698204, '.': 0.0549042071640713, 'VBP': 0.01525462775595086, 'TO': 0.027047388968102264, 'VB': 0.041056740988873464, ',': 0.03295622233152976, 'RB': 0.06514660008592403, 'VBG': 0.015466324630931404, ':': 0.005223931709078683, 'PRP$': 0.017838574906448662, 'WRB': 0.005908833363427497, 'VBN': 0.021730061578885105, '``': 0.0021916852939162053, 'UH': 0.00024905514703593245, 'VBZ': 0.011325782811459028, \"''\": 0.0023597975181654596, 'PDT': 0.0008156556065426787, '(': 0.0025403624997665107, 'FW': 0.0002677342830636274, 'EX': 0.0032750751835225115, ')': 0.0025901735291736974, 'WP': 0.002583947150497799, 'MD': 0.011630875366578045, 'RP': 0.005099404135560716, 'WDT': 0.0034992248158548507, 'JJS': 0.0018305553307141034, 'JJR': 0.0030571519298660706, 'POS': 0.001245275735179662, '$': 0.0014507462314843065, 'RBS': 0.0002677342830636274, 'RBR': 0.0012079174631242722, 'SYM': 5.60374080830848e-05, 'NNPS': 1.2452757351796621e-05, 'NNP': 0.00014943308822155946, '#': 5.60374080830848e-05}\n"
          ],
          "name": "stdout"
        }
      ]
    },
    {
      "cell_type": "code",
      "metadata": {
        "id": "Z9_MA4PTXk31",
        "colab_type": "code",
        "colab": {}
      },
      "source": [
        "#remove punctuations, stopwords from text and put them into a new columns called cleaned\n",
        "stemmer = PorterStemmer()\n",
        "words = stopwords.words(\"english\")\n",
        "reviews['cleaned'] = reviews['text'].apply(lambda x: \" \".join([stemmer.stem(i) \n",
        "for i in re.sub(\"[^a-zA-Z]\", \" \", x).split() if i not in words]).lower())"
      ],
      "execution_count": 0,
      "outputs": []
    },
    {
      "cell_type": "code",
      "metadata": {
        "id": "M5ryttLyr2YP",
        "colab_type": "code",
        "outputId": "c7af45b0-9c73-43e0-ef5f-f66fad6f666a",
        "colab": {
          "base_uri": "https://localhost:8080/",
          "height": 195
        }
      },
      "source": [
        "reviews.head(5)"
      ],
      "execution_count": 0,
      "outputs": [
        {
          "output_type": "execute_result",
          "data": {
            "text/html": [
              "<div>\n",
              "<style scoped>\n",
              "    .dataframe tbody tr th:only-of-type {\n",
              "        vertical-align: middle;\n",
              "    }\n",
              "\n",
              "    .dataframe tbody tr th {\n",
              "        vertical-align: top;\n",
              "    }\n",
              "\n",
              "    .dataframe thead th {\n",
              "        text-align: right;\n",
              "    }\n",
              "</style>\n",
              "<table border=\"1\" class=\"dataframe\">\n",
              "  <thead>\n",
              "    <tr style=\"text-align: right;\">\n",
              "      <th></th>\n",
              "      <th>text</th>\n",
              "      <th>isSpam</th>\n",
              "      <th>positivity</th>\n",
              "      <th>class</th>\n",
              "      <th>cleaned</th>\n",
              "      <th>review_word_count</th>\n",
              "      <th>review_char_count</th>\n",
              "    </tr>\n",
              "  </thead>\n",
              "  <tbody>\n",
              "    <tr>\n",
              "      <th>0</th>\n",
              "      <td>We stayed at the Schicago Hilton for 4 days an...</td>\n",
              "      <td>deceptive</td>\n",
              "      <td>negative</td>\n",
              "      <td>1</td>\n",
              "      <td>we stay schicago hilton day night confer i say...</td>\n",
              "      <td>153</td>\n",
              "      <td>868</td>\n",
              "    </tr>\n",
              "    <tr>\n",
              "      <th>1</th>\n",
              "      <td>Hotel is located 1/2 mile from the train stati...</td>\n",
              "      <td>deceptive</td>\n",
              "      <td>negative</td>\n",
              "      <td>1</td>\n",
              "      <td>hotel locat mile train station quit hike trave...</td>\n",
              "      <td>50</td>\n",
              "      <td>276</td>\n",
              "    </tr>\n",
              "    <tr>\n",
              "      <th>2</th>\n",
              "      <td>I made my reservation at the Hilton Chicago be...</td>\n",
              "      <td>deceptive</td>\n",
              "      <td>negative</td>\n",
              "      <td>1</td>\n",
              "      <td>i made reserv hilton chicago believ i go stay ...</td>\n",
              "      <td>109</td>\n",
              "      <td>590</td>\n",
              "    </tr>\n",
              "    <tr>\n",
              "      <th>3</th>\n",
              "      <td>When most people think Hilton, they think luxu...</td>\n",
              "      <td>deceptive</td>\n",
              "      <td>negative</td>\n",
              "      <td>1</td>\n",
              "      <td>when peopl think hilton think luxuri i know i ...</td>\n",
              "      <td>92</td>\n",
              "      <td>508</td>\n",
              "    </tr>\n",
              "    <tr>\n",
              "      <th>4</th>\n",
              "      <td>My husband and I recently stayed stayed at the...</td>\n",
              "      <td>deceptive</td>\n",
              "      <td>negative</td>\n",
              "      <td>1</td>\n",
              "      <td>my husband i recent stay stay hilton chicago h...</td>\n",
              "      <td>114</td>\n",
              "      <td>639</td>\n",
              "    </tr>\n",
              "  </tbody>\n",
              "</table>\n",
              "</div>"
            ],
            "text/plain": [
              "                                                text  ... review_char_count\n",
              "0  We stayed at the Schicago Hilton for 4 days an...  ...               868\n",
              "1  Hotel is located 1/2 mile from the train stati...  ...               276\n",
              "2  I made my reservation at the Hilton Chicago be...  ...               590\n",
              "3  When most people think Hilton, they think luxu...  ...               508\n",
              "4  My husband and I recently stayed stayed at the...  ...               639\n",
              "\n",
              "[5 rows x 7 columns]"
            ]
          },
          "metadata": {
            "tags": []
          },
          "execution_count": 113
        }
      ]
    },
    {
      "cell_type": "code",
      "metadata": {
        "id": "rrV1BXExwqOR",
        "colab_type": "code",
        "outputId": "bc211e97-35fd-4f09-97bf-50f44cc44eb7",
        "colab": {
          "base_uri": "https://localhost:8080/",
          "height": 171
        }
      },
      "source": [
        "#find the 10 most frequent words of cleaned text for each category\n",
        "mostFrequent(10,'cleaned','positivity','isSpam', 'positive', 'deceptive')\n",
        "mostFrequent(10,'cleaned','positivity','isSpam', 'positive', 'truthful')\n",
        "mostFrequent(10,'cleaned','positivity','isSpam', 'negative', 'deceptive')\n",
        "mostFrequent(10,'cleaned','positivity','isSpam', 'negative', 'truthful')"
      ],
      "execution_count": 0,
      "outputs": [
        {
          "output_type": "stream",
          "text": [
            "positive and deceptive-------------------------\n",
            "[('i', 1349), ('hotel', 923), ('the', 746), ('room', 607), ('stay', 555), ('chicago', 542), ('great', 250), ('staff', 220), ('servic', 197), ('would', 170)]\n",
            "positive and truthful-------------------------\n",
            "[('i', 831), ('the', 789), ('hotel', 748), ('room', 716), ('stay', 460), ('great', 401), ('we', 299), ('chicago', 278), ('locat', 252), ('staff', 252)]\n",
            "negative and deceptive-------------------------\n",
            "[('i', 2277), ('room', 1139), ('hotel', 1006), ('the', 695), ('stay', 555), ('chicago', 434), ('would', 305), ('servic', 261), ('check', 236), ('we', 234)]\n",
            "negative and truthful-------------------------\n",
            "[('i', 1526), ('room', 1024), ('hotel', 851), ('the', 765), ('stay', 481), ('we', 279), ('would', 266), ('night', 259), ('call', 242), ('servic', 239)]\n"
          ],
          "name": "stdout"
        }
      ]
    },
    {
      "cell_type": "code",
      "metadata": {
        "id": "_Yol61yLUdrT",
        "colab_type": "code",
        "colab": {}
      },
      "source": [
        "# calculate the number of words and characters of cleaned texts.\n",
        "f1 = lambda x: len(x[\"cleaned\"].split())\n",
        "f2 = lambda x: len(x[\"cleaned\"].strip())\n",
        "reviews['review_word_count'] = reviews.apply(f1, axis=1)\n",
        "reviews['review_char_count'] = reviews.apply(f2, axis=1)"
      ],
      "execution_count": 0,
      "outputs": []
    },
    {
      "cell_type": "code",
      "metadata": {
        "id": "9QBJf-oWjYNQ",
        "colab_type": "code",
        "outputId": "4b6f7caa-ed53-40e0-cb14-98b6768547a9",
        "colab": {
          "base_uri": "https://localhost:8080/",
          "height": 195
        }
      },
      "source": [
        "reviews.head(5)"
      ],
      "execution_count": 0,
      "outputs": [
        {
          "output_type": "execute_result",
          "data": {
            "text/html": [
              "<div>\n",
              "<style scoped>\n",
              "    .dataframe tbody tr th:only-of-type {\n",
              "        vertical-align: middle;\n",
              "    }\n",
              "\n",
              "    .dataframe tbody tr th {\n",
              "        vertical-align: top;\n",
              "    }\n",
              "\n",
              "    .dataframe thead th {\n",
              "        text-align: right;\n",
              "    }\n",
              "</style>\n",
              "<table border=\"1\" class=\"dataframe\">\n",
              "  <thead>\n",
              "    <tr style=\"text-align: right;\">\n",
              "      <th></th>\n",
              "      <th>text</th>\n",
              "      <th>isSpam</th>\n",
              "      <th>positivity</th>\n",
              "      <th>class</th>\n",
              "      <th>cleaned</th>\n",
              "      <th>review_word_count</th>\n",
              "      <th>review_char_count</th>\n",
              "    </tr>\n",
              "  </thead>\n",
              "  <tbody>\n",
              "    <tr>\n",
              "      <th>0</th>\n",
              "      <td>We stayed at the Schicago Hilton for 4 days an...</td>\n",
              "      <td>deceptive</td>\n",
              "      <td>negative</td>\n",
              "      <td>1</td>\n",
              "      <td>we stay schicago hilton day night confer i say...</td>\n",
              "      <td>153</td>\n",
              "      <td>868</td>\n",
              "    </tr>\n",
              "    <tr>\n",
              "      <th>1</th>\n",
              "      <td>Hotel is located 1/2 mile from the train stati...</td>\n",
              "      <td>deceptive</td>\n",
              "      <td>negative</td>\n",
              "      <td>1</td>\n",
              "      <td>hotel locat mile train station quit hike trave...</td>\n",
              "      <td>50</td>\n",
              "      <td>276</td>\n",
              "    </tr>\n",
              "    <tr>\n",
              "      <th>2</th>\n",
              "      <td>I made my reservation at the Hilton Chicago be...</td>\n",
              "      <td>deceptive</td>\n",
              "      <td>negative</td>\n",
              "      <td>1</td>\n",
              "      <td>i made reserv hilton chicago believ i go stay ...</td>\n",
              "      <td>109</td>\n",
              "      <td>590</td>\n",
              "    </tr>\n",
              "    <tr>\n",
              "      <th>3</th>\n",
              "      <td>When most people think Hilton, they think luxu...</td>\n",
              "      <td>deceptive</td>\n",
              "      <td>negative</td>\n",
              "      <td>1</td>\n",
              "      <td>when peopl think hilton think luxuri i know i ...</td>\n",
              "      <td>92</td>\n",
              "      <td>508</td>\n",
              "    </tr>\n",
              "    <tr>\n",
              "      <th>4</th>\n",
              "      <td>My husband and I recently stayed stayed at the...</td>\n",
              "      <td>deceptive</td>\n",
              "      <td>negative</td>\n",
              "      <td>1</td>\n",
              "      <td>my husband i recent stay stay hilton chicago h...</td>\n",
              "      <td>114</td>\n",
              "      <td>639</td>\n",
              "    </tr>\n",
              "  </tbody>\n",
              "</table>\n",
              "</div>"
            ],
            "text/plain": [
              "                                                text  ... review_char_count\n",
              "0  We stayed at the Schicago Hilton for 4 days an...  ...               868\n",
              "1  Hotel is located 1/2 mile from the train stati...  ...               276\n",
              "2  I made my reservation at the Hilton Chicago be...  ...               590\n",
              "3  When most people think Hilton, they think luxu...  ...               508\n",
              "4  My husband and I recently stayed stayed at the...  ...               639\n",
              "\n",
              "[5 rows x 7 columns]"
            ]
          },
          "metadata": {
            "tags": []
          },
          "execution_count": 115
        }
      ]
    },
    {
      "cell_type": "code",
      "metadata": {
        "id": "TKyqeiFxNhHE",
        "colab_type": "code",
        "outputId": "5990642b-a7bd-4035-c554-c2a18a372b3f",
        "colab": {
          "base_uri": "https://localhost:8080/",
          "height": 84
        }
      },
      "source": [
        "#find the maximum words and characters\n",
        "print(pd.DataFrame(reviews['review_word_count']).max())\n",
        "print(pd.DataFrame(reviews['review_char_count']).max())"
      ],
      "execution_count": 0,
      "outputs": [
        {
          "output_type": "stream",
          "text": [
            "review_word_count    415\n",
            "dtype: int64\n",
            "review_char_count    2443\n",
            "dtype: int64\n"
          ],
          "name": "stdout"
        }
      ]
    },
    {
      "cell_type": "code",
      "metadata": {
        "id": "q3On-rpJb8u3",
        "colab_type": "code",
        "outputId": "3993198b-5e58-4a79-cc2b-ad38fa1acb94",
        "colab": {
          "base_uri": "https://localhost:8080/",
          "height": 84
        }
      },
      "source": [
        "#find the maximum words based on polarity\n",
        "pd.DataFrame(reviews).groupby('positivity').max()['review_word_count']"
      ],
      "execution_count": 0,
      "outputs": [
        {
          "output_type": "execute_result",
          "data": {
            "text/plain": [
              "positivity\n",
              "negative    415\n",
              "positive    262\n",
              "Name: review_word_count, dtype: int64"
            ]
          },
          "metadata": {
            "tags": []
          },
          "execution_count": 117
        }
      ]
    },
    {
      "cell_type": "code",
      "metadata": {
        "id": "CdmoOyFCgRbu",
        "colab_type": "code",
        "outputId": "eafc1f89-7773-400f-df32-2534d04f3cf0",
        "colab": {
          "base_uri": "https://localhost:8080/",
          "height": 84
        }
      },
      "source": [
        "#the maximum words based on Spam or nonspam\n",
        "pd.DataFrame(reviews).groupby('isSpam').max()['review_word_count']"
      ],
      "execution_count": 0,
      "outputs": [
        {
          "output_type": "execute_result",
          "data": {
            "text/plain": [
              "isSpam\n",
              "deceptive    396\n",
              "truthful     415\n",
              "Name: review_word_count, dtype: int64"
            ]
          },
          "metadata": {
            "tags": []
          },
          "execution_count": 120
        }
      ]
    },
    {
      "cell_type": "code",
      "metadata": {
        "id": "10Pbp5xmG2iI",
        "colab_type": "code",
        "outputId": "e9f7b3f1-2439-4acd-a268-5c265595fc5a",
        "colab": {
          "base_uri": "https://localhost:8080/",
          "height": 386
        }
      },
      "source": [
        "#histogram of word count and character count.\n",
        "pd.DataFrame.hist(reviews, column=['review_char_count','review_word_count'],bins = 50, figsize=(10,5))"
      ],
      "execution_count": 0,
      "outputs": [
        {
          "output_type": "execute_result",
          "data": {
            "text/plain": [
              "array([[<matplotlib.axes._subplots.AxesSubplot object at 0x7ff31196a1d0>,\n",
              "        <matplotlib.axes._subplots.AxesSubplot object at 0x7ff315485630>]],\n",
              "      dtype=object)"
            ]
          },
          "metadata": {
            "tags": []
          },
          "execution_count": 121
        },
        {
          "output_type": "display_data",
          "data": {
            "image/png": "[encoded data removed]",
            "text/plain": [
              "<Figure size 720x360 with 2 Axes>"
            ]
          },
          "metadata": {
            "tags": []
          }
        }
      ]
    },
    {
      "cell_type": "code",
      "metadata": {
        "id": "MHZauXvIUzlu",
        "colab_type": "code",
        "outputId": "af5b2b3c-783d-4e72-ae5f-fa2d0f6a1e43",
        "colab": {
          "base_uri": "https://localhost:8080/",
          "height": 339
        }
      },
      "source": [
        "#histogram of word count based on polarity\n",
        "reviews['review_word_count'].hist(by=reviews['positivity'])"
      ],
      "execution_count": 0,
      "outputs": [
        {
          "output_type": "execute_result",
          "data": {
            "text/plain": [
              "array([<matplotlib.axes._subplots.AxesSubplot object at 0x7ff315b5e5c0>,\n",
              "       <matplotlib.axes._subplots.AxesSubplot object at 0x7ff315ed7cf8>],\n",
              "      dtype=object)"
            ]
          },
          "metadata": {
            "tags": []
          },
          "execution_count": 122
        },
        {
          "output_type": "display_data",
          "data": {
            "image/png": "[encoded data removed]",
            "text/plain": [
              "<Figure size 432x288 with 2 Axes>"
            ]
          },
          "metadata": {
            "tags": []
          }
        }
      ]
    },
    {
      "cell_type": "code",
      "metadata": {
        "id": "pb-mrs4ebYX8",
        "colab_type": "code",
        "outputId": "6eb8088c-37c7-4459-d92d-1025507dca1c",
        "colab": {
          "base_uri": "https://localhost:8080/",
          "height": 339
        }
      },
      "source": [
        "#histogram of word count based on spam or non spam\n",
        "reviews['review_word_count'].hist(by=reviews['isSpam'])"
      ],
      "execution_count": 0,
      "outputs": [
        {
          "output_type": "execute_result",
          "data": {
            "text/plain": [
              "array([<matplotlib.axes._subplots.AxesSubplot object at 0x7ff3183ed400>,\n",
              "       <matplotlib.axes._subplots.AxesSubplot object at 0x7ff3160df908>],\n",
              "      dtype=object)"
            ]
          },
          "metadata": {
            "tags": []
          },
          "execution_count": 123
        },
        {
          "output_type": "display_data",
          "data": {
            "image/png": "[encoded data removed]",
            "text/plain": [
              "<Figure size 432x288 with 2 Axes>"
            ]
          },
          "metadata": {
            "tags": []
          }
        }
      ]
    },
    {
      "cell_type": "code",
      "metadata": {
        "id": "HxB3pJ_AbOK5",
        "colab_type": "code",
        "colab": {}
      },
      "source": [
        "#histogram of character count based on spam or non spam\n",
        "reviews['review_char_count'].hist(by=reviews['isSpam'])"
      ],
      "execution_count": 0,
      "outputs": []
    },
    {
      "cell_type": "code",
      "metadata": {
        "id": "UGXIPQrfslfm",
        "colab_type": "code",
        "colab": {}
      },
      "source": [
        "# vectorize cleaned text to generate features\n",
        "vectorizer = TfidfVectorizer(min_df= 3, stop_words=\"english\", sublinear_tf=True, norm='l2', ngram_range=(1, 2))\n",
        "final_features = vectorizer.fit_transform(reviews['cleaned']).toarray()\n",
        "final_features.shape"
      ],
      "execution_count": 0,
      "outputs": []
    },
    {
      "cell_type": "code",
      "metadata": {
        "id": "1KX_OeXF91v7",
        "colab_type": "code",
        "colab": {}
      },
      "source": [
        "from sklearn.utils import shuffle\n",
        "import numpy as np"
      ],
      "execution_count": 0,
      "outputs": []
    },
    {
      "cell_type": "code",
      "metadata": {
        "id": "cqm-DnpL-FZl",
        "colab_type": "code",
        "colab": {}
      },
      "source": [
        "#create method trainModel\n",
        "#kbestFeatures is the number of k best feature generated from vertorizer\n",
        "def trainModel(kBestFeatures):\n",
        "  X,Y,Z = shuffle(reviews['cleaned'],reviews['isSpam'],reviews['class']) # shuffle the data\n",
        "  X_train, X_test, Y_train, Y_test,Z_train,Z_test = train_test_split(X, Y,Z, test_size=0.3, random_state=42) # split the data into train and test data set\n",
        "  pipeline = Pipeline([('vect', vectorizer),\n",
        "                     ('chi',  SelectKBest(chi2, k=kBestFeatures)),\n",
        "                     ('clf', RandomForestClassifier())]) # RandomForestClassifier is used as classifier\n",
        "  modelY = pipeline.fit(X_train, Y_train) # predict if a text is spam or non spam\n",
        "  PredictY = modelY.predict(X_test)\n",
        "  accuracyY = accuracy_score(Y_test,PredictY, normalize = True)\n",
        "  modelZ = pipeline.fit(X_train,Z_train) # predict class( 1= \" positive+ deceptive\", 2 = \" negative+ deceptive\", 3=\" positive+ truthful\", 4= \"negative+ truthful\")\n",
        "  PredictZ = modelZ.predict(X_test)\n",
        "  accuracyZ = accuracy_score(Z_test,PredictZ, normalize = True)\n",
        "  return [accuracyY,accuracyZ]"
      ],
      "execution_count": 0,
      "outputs": []
    },
    {
      "cell_type": "code",
      "metadata": {
        "id": "EKB2fPD7Dwv4",
        "colab_type": "code",
        "outputId": "75900b72-1006-4af2-d9c8-26fb8662ac1c",
        "colab": {
          "base_uri": "https://localhost:8080/",
          "height": 67
        }
      },
      "source": [
        "#This times the entire cell block\n",
        "#lprun returns a line by line time analysis\n",
        "# Time is in microseconds, we can see that a majority of the time\n",
        "# is spent on fitting the train data, followed by prediction\n",
        "from timeit import default_timer as timer\n",
        "\n",
        "myAccuracyY=[] # List stores accuracy of Spam or non spam based model \n",
        "myAccuracyZ=[] # List stores accuracy of Class based model\n",
        "runTimes = [] # run time of each iteration \n",
        "# %lprun -f trainModel trainModel(1)\n",
        "for i in range(1,100):\n",
        "  start = timer()\n",
        "  myAccuracy = trainModel(i)\n",
        "  end = timer()\n",
        "  runTimes.append(end - start)\n",
        "  myAccuracyY.append(myAccuracy[0])\n",
        "  myAccuracyZ.append(myAccuracy[1])\n",
        "myKBestFeature=[] #list stores the number of best features of each iteration\n",
        "for i in range(1,100):\n",
        "  myKBestFeature.append(i)\n",
        "\n",
        "print(\"Average Run Time: \" + str(sum(runTimes) / len(runTimes)))\n",
        "print(\"Total Run Time: \" + str(sum(runTimes)))\n",
        "print(\"Max Run Time: \" + str(max(runTimes)))\n"
      ],
      "execution_count": 0,
      "outputs": [
        {
          "output_type": "stream",
          "text": [
            "Average Run Time: 1.2561737575858267\n",
            "Total Run Time: 124.36120200099685\n",
            "Max Run Time: 1.3475610709992907\n"
          ],
          "name": "stdout"
        }
      ]
    },
    {
      "cell_type": "code",
      "metadata": {
        "id": "miksIvfeGRRh",
        "colab_type": "code",
        "outputId": "b51b7b6e-5081-4e97-f7d9-aecc48108c0e",
        "colab": {
          "base_uri": "https://localhost:8080/",
          "height": 295
        }
      },
      "source": [
        "# Scatter plot of accuracy versus the  number of best features when polarity is not taken into account\n",
        "import matplotlib.pyplot as plt\n",
        "plt.scatter(myKBestFeature,myAccuracyY,label ='Accuracy', color='r',marker='o')\n",
        "plt.xlabel('K Best Feature')\n",
        "plt.ylabel('Accuracy')\n",
        "plt.title('Without Polarity')\n",
        "plt.show()"
      ],
      "execution_count": 0,
      "outputs": [
        {
          "output_type": "display_data",
          "data": {
            "image/png": "[encoded data removed]",
            "text/plain": [
              "<Figure size 432x288 with 1 Axes>"
            ]
          },
          "metadata": {
            "tags": []
          }
        }
      ]
    },
    {
      "cell_type": "code",
      "metadata": {
        "id": "CSROrYMFIGbG",
        "colab_type": "code",
        "outputId": "15b5ff69-6e8a-467a-b8a5-e76b949ab4da",
        "colab": {
          "base_uri": "https://localhost:8080/",
          "height": 50
        }
      },
      "source": [
        "#maximum accuracy and its k( number of best features used) value\n",
        "print(myAccuracyY.index(max(myAccuracyY))+1)\n",
        "print(max(myAccuracyY))"
      ],
      "execution_count": 0,
      "outputs": [
        {
          "output_type": "stream",
          "text": [
            "98\n",
            "0.8479166666666667\n"
          ],
          "name": "stdout"
        }
      ]
    },
    {
      "cell_type": "code",
      "metadata": {
        "id": "VIXKQwCvOunG",
        "colab_type": "code",
        "outputId": "f05d3c3c-4657-412f-d17e-ed224d8d430a",
        "colab": {
          "base_uri": "https://localhost:8080/",
          "height": 295
        }
      },
      "source": [
        "# Scatter plot of accuracy versus the  number of best features when polarity is  taken into account\n",
        "plt.scatter(myKBestFeature,myAccuracyZ,label ='Accuracy', color='r',marker='o')\n",
        "plt.xlabel('K Best Feature')\n",
        "plt.ylabel('Accuracy')\n",
        "plt.title('With Polarity')\n",
        "plt.show()"
      ],
      "execution_count": 0,
      "outputs": [
        {
          "output_type": "display_data",
          "data": {
            "image/png": "[encoded data removed]",
            "text/plain": [
              "<Figure size 432x288 with 1 Axes>"
            ]
          },
          "metadata": {
            "tags": []
          }
        }
      ]
    },
    {
      "cell_type": "code",
      "metadata": {
        "id": "eG_iuYVRO4oY",
        "colab_type": "code",
        "outputId": "18b214dc-db6d-4b10-f436-7146f318634a",
        "colab": {
          "base_uri": "https://localhost:8080/",
          "height": 50
        }
      },
      "source": [
        "#maximum accuracy and its corresponding number of  best features used\n",
        "print(myAccuracyZ.index(max(myAccuracyZ))+1)\n",
        "print(max(myAccuracyZ))"
      ],
      "execution_count": 0,
      "outputs": [
        {
          "output_type": "stream",
          "text": [
            "61\n",
            "0.7020833333333333\n"
          ],
          "name": "stdout"
        }
      ]
    },
    {
      "cell_type": "code",
      "metadata": {
        "id": "ZCZE5Dr7rlVQ",
        "colab_type": "code",
        "colab": {}
      },
      "source": [
        "#train model using max depth of random forest\n",
        "def trainModelWithMaxDepth(kBestFeatures, Depth):\n",
        "  X,Y,Z = shuffle(reviews['cleaned'],reviews['isSpam'],reviews['class'])\n",
        "  X_train, X_test, Y_train, Y_test,Z_train,Z_test = train_test_split(X, Y,Z, test_size=0.3, random_state=42)\n",
        "  pipeline = Pipeline([('vect', vectorizer),\n",
        "                     ('chi',  SelectKBest(chi2, k=kBestFeatures)),\n",
        "                     ('clf', RandomForestClassifier(max_depth= Depth))])\n",
        "  modelY = pipeline.fit(X_train, Y_train)\n",
        "  PredictY = modelY.predict(X_test)\n",
        "  accuracyY = accuracy_score(Y_test,PredictY, normalize = True)\n",
        "  return accuracyY"
      ],
      "execution_count": 0,
      "outputs": []
    },
    {
      "cell_type": "code",
      "metadata": {
        "id": "FQWueFqUtx9c",
        "colab_type": "code",
        "outputId": "b3e06d1a-9461-4a76-f29c-a9ba70328200",
        "colab": {
          "base_uri": "https://localhost:8080/",
          "height": 67
        }
      },
      "source": [
        "myAccuracyY =[]\n",
        "for i in range(1,1000):\n",
        "  start = timer()\n",
        "  myAccuracyY.append( trainModelWithMaxDepth(350,i))\n",
        "  end = timer()\n",
        "  runTimes.append(end - start)\n",
        "myMaxDepth=[]\n",
        "for i in range(1,1000):\n",
        "  myMaxDepth.append(i)\n",
        "\n",
        "print(\"Average Run Time: \" + str(sum(runTimes) / len(runTimes)))\n",
        "print(\"Total Run Time: \" + str(sum(runTimes)))\n",
        "print(\"Max Run Time: \" + str(max(runTimes)))"
      ],
      "execution_count": 0,
      "outputs": [
        {
          "output_type": "stream",
          "text": [
            "Average Run Time: 0.6747416018538004\n",
            "Total Run Time: 807.6656974189991\n",
            "Max Run Time: 1.3475610709992907\n"
          ],
          "name": "stdout"
        }
      ]
    },
    {
      "cell_type": "code",
      "metadata": {
        "id": "m40QQgFGwJsZ",
        "colab_type": "code",
        "outputId": "070ce85c-184e-4987-a3e6-93651964b1bb",
        "colab": {
          "base_uri": "https://localhost:8080/",
          "height": 295
        }
      },
      "source": [
        "# accuracy with different maximum tree depth\n",
        "plt.scatter(myMaxDepth,myAccuracyY,label ='Accuracy', color='r',marker='o')\n",
        "plt.xlabel('Maximum Tree Depth')\n",
        "plt.ylabel('Accuracy')\n",
        "plt.title('Without Polarity')\n",
        "plt.show()"
      ],
      "execution_count": 0,
      "outputs": [
        {
          "output_type": "display_data",
          "data": {
            "image/png": "[encoded data removed]",
            "text/plain": [
              "<Figure size 432x288 with 1 Axes>"
            ]
          },
          "metadata": {
            "tags": []
          }
        }
      ]
    },
    {
      "cell_type": "code",
      "metadata": {
        "id": "TbQ87C6lwt66",
        "colab_type": "code",
        "outputId": "5da86b2e-152a-4f90-a32d-d54ff366dfff",
        "colab": {
          "base_uri": "https://localhost:8080/",
          "height": 50
        }
      },
      "source": [
        "print(myAccuracyY.index(max(myAccuracyY))+1)\n",
        "print(max(myAccuracyY))"
      ],
      "execution_count": 0,
      "outputs": [
        {
          "output_type": "stream",
          "text": [
            "880\n",
            "0.8791666666666667\n"
          ],
          "name": "stdout"
        }
      ]
    }
  ]
}